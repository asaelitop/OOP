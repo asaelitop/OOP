{
 "cells": [
  {
   "cell_type": "markdown",
   "metadata": {},
   "source": [
    "## Ejercicio 6 de OOP"
   ]
  },
  {
   "cell_type": "markdown",
   "metadata": {},
   "source": [
    "<img src=\"./Diagramas_clases/06_x.jpg\" alt=\"Ex 1\" width=\"500\"> "
   ]
  },
  {
   "cell_type": "markdown",
   "metadata": {},
   "source": [
    "## Clase Employee\n",
    "- **int id**: Atributo de instancia. Identifica de manera unica a cada instancia de 'Employee'.\n",
    "- **int new_id**: Atributo de clase. Identificador unico.\n",
    "- **void say_id**: Imprime 'Mi id es {self.id}'.\n",
    "\n",
    "## Clase User\n",
    "- **str role**: Atributo de instancia. Funcion de 'User' p.ej.\n",
    "    - Administrador \n",
    "    - Manager\n",
    "    - Usuario\n",
    "- **str username**: Atributo de instancia. Nombre del usuario.\n",
    "- **void say_user_info()**: Imprime 'Mi nombre es {self.name} y soy {self.role}.'.\n",
    "\n",
    "## Clase Admin\n",
    "- **void say_id()**: Imprime:\n",
    "    - 'Mi id es {self.id}.'.\n",
    "    - 'Soy un Administrador \\\\(0-0)/'.\n",
    "\n",
    "## Clase Manager\n",
    "- **void say_id()**: Imprime:\n",
    "    - 'Mi id es {self.id}.'.\n",
    "    - 'Soy un Manager \\\\(0-0)/'.\n",
    "    - 'Y estoy al mando.'."
   ]
  },
  {
   "cell_type": "markdown",
   "metadata": {},
   "source": [
    "## Empleado "
   ]
  },
  {
   "cell_type": "code",
   "execution_count": 1,
   "metadata": {},
   "outputs": [],
   "source": [
    "class employee:\n",
    "    id = 1\n",
    "\n",
    "    def __init__(self):\n",
    "        self.id = employee.id\n",
    "        employee.id += 1\n",
    "\n",
    "    def say_id(self):\n",
    "        print(f'Mi id es : {self.id}')\n"
   ]
  },
  {
   "cell_type": "code",
   "execution_count": 2,
   "metadata": {},
   "outputs": [
    {
     "name": "stdout",
     "output_type": "stream",
     "text": [
      "Mi id es : 1\n"
     ]
    }
   ],
   "source": [
    "Asa = employee()\n",
    "Asa.say_id()\n"
   ]
  },
  {
   "cell_type": "markdown",
   "metadata": {},
   "source": [
    "## Usuario "
   ]
  },
  {
   "cell_type": "code",
   "execution_count": 3,
   "metadata": {},
   "outputs": [],
   "source": [
    "class User:\n",
    "     \n",
    "    def __init__ (self, username, role):\n",
    "        self.username = username\n",
    "        self.role = role\n",
    "\n",
    "    def say_user_info(self):\n",
    "        print(f'Mi nombre es {self.username} y soy {self.role}')"
   ]
  },
  {
   "cell_type": "code",
   "execution_count": 4,
   "metadata": {},
   "outputs": [
    {
     "name": "stdout",
     "output_type": "stream",
     "text": [
      "Mi nombre es Asael y soy Administrador\n"
     ]
    }
   ],
   "source": [
    "asael = User('Asael', 'Administrador')\n",
    "asael.say_user_info()"
   ]
  },
  {
   "cell_type": "markdown",
   "metadata": {},
   "source": [
    "## Admin"
   ]
  },
  {
   "cell_type": "code",
   "execution_count": 9,
   "metadata": {},
   "outputs": [],
   "source": [
    "class admin(User, employee):\n",
    "    def __init__(self, username):\n",
    "        super().__init__(username, \"Administrador\")\n",
    "\n",
    "    def say_id(self):\n",
    "        super().say_id() \n",
    "        print('Y soy el administrador \\\\(0-0)/')"
   ]
  },
  {
   "cell_type": "code",
   "execution_count": 10,
   "metadata": {},
   "outputs": [
    {
     "name": "stdout",
     "output_type": "stream",
     "text": [
      "Mi id es : 2\n",
      "Y soy el administrador \\(0-0)/\n",
      "Mi nombre es Carlos y soy Administrador\n"
     ]
    }
   ],
   "source": [
    "Carlos = admin(\"Carlos\")\n",
    "Carlos.say_id()\n",
    "Carlos.say_user_info()"
   ]
  },
  {
   "cell_type": "markdown",
   "metadata": {},
   "source": [
    "## Manager"
   ]
  },
  {
   "cell_type": "code",
   "execution_count": 13,
   "metadata": {},
   "outputs": [],
   "source": [
    "class Manager(admin):\n",
    "\n",
    "    def __init__(self, username):\n",
    "        admin.__init__(self, username) \n",
    "\n",
    "    def say_id(self):\n",
    "        super().say_id ()\n",
    "        print('Soy un manager \\\\(0-0)/')\n",
    "        print('estoy a cargo!')"
   ]
  },
  {
   "cell_type": "code",
   "execution_count": 14,
   "metadata": {},
   "outputs": [
    {
     "name": "stdout",
     "output_type": "stream",
     "text": [
      "Mi id es : 2\n",
      "Y soy el administrador \\(0-0)/\n",
      "Soy un manager \\(0-0)/\n",
      "estoy a cargo!\n",
      "Mi nombre es Jose y soy Administrador\n"
     ]
    }
   ],
   "source": [
    "jose = Manager('Jose')\n",
    "jose.say_id()\n",
    "jose.say_user_info()"
   ]
  }
 ],
 "metadata": {
  "kernelspec": {
   "display_name": "Python 3",
   "language": "python",
   "name": "python3"
  },
  "language_info": {
   "codemirror_mode": {
    "name": "ipython",
    "version": 3
   },
   "file_extension": ".py",
   "mimetype": "text/x-python",
   "name": "python",
   "nbconvert_exporter": "python",
   "pygments_lexer": "ipython3",
   "version": "3.12.5"
  }
 },
 "nbformat": 4,
 "nbformat_minor": 2
}
