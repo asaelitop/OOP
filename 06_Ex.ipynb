{
 "cells": [
  {
   "cell_type": "markdown",
   "id": "7ca69bd2-06a2-4df1-a5dc-3bfd2f0d5807",
   "metadata": {},
   "source": [
    "# Ejercicio 6 de OOP"
   ]
  },
  {
   "cell_type": "markdown",
   "id": "5a49609e-b766-4ca3-a284-37e4f5788315",
   "metadata": {},
   "source": [
    "\n",
    "<img src=\"./Diagramas_clases/06_herencia__multiple_company.png\" alt=\"Ex 6\" width=\"300\">"
   ]
  },
  {
   "cell_type": "markdown",
   "id": "ec598fce-ada5-45d7-86f2-f879fe79133d",
   "metadata": {},
   "source": [
    "## Clase Employee\n",
    "\n",
    "- **int id**: Atributo de instancia. Identificador unico para cada instancia de `Employee`.\n",
    "- **int new_id**: Atributo de clase. Identificador unico.\n",
    "- **void say_id()**:  Imprime 'Mi id es: {self.id}."
   ]
  },
  {
   "cell_type": "code",
   "execution_count": 1,
   "id": "40740f33-b735-46a8-a6e1-087a79382653",
   "metadata": {},
   "outputs": [],
   "source": [
    "class Employee:\n",
    "    new_id = 1\n",
    "    \n",
    "    def __init__(self):\n",
    "        self.id = Employee.new_id        \n",
    "        Employee.new_id += 1\n",
    "        \n",
    "    def say_id(self):\n",
    "        print(f'Mi id es {self.id}')            "
   ]
  },
  {
   "cell_type": "code",
   "execution_count": 2,
   "id": "9a23fd0f-2ad7-42a5-9e5c-2efa4cd7e9f0",
   "metadata": {},
   "outputs": [
    {
     "name": "stdout",
     "output_type": "stream",
     "text": [
      "Mi id es 1\n",
      "Mi id es 2\n"
     ]
    }
   ],
   "source": [
    "Savana = Employee()\n",
    "Savana.say_id()\n",
    "\n",
    "Dakota = Employee()\n",
    "Dakota.say_id()"
   ]
  },
  {
   "cell_type": "markdown",
   "id": "f7d9acff-c28a-4148-b886-093650136d3f",
   "metadata": {},
   "source": [
    "class User:\n",
    "  def __init__(self, username, role=\"Customer\"):\n",
    "    self.username = username\n",
    "    self.role = role\n",
    "\n",
    "  def say_user_info(self):\n",
    "    print(\"My username is {}\".format(self.username))\n",
    "    print(\"My role is {}\".format(self.role))\n",
    "## Clase User\n",
    "- **str role**: Atributo de instancia. Funcion de `User` p.ej.\n",
    "    - Administrador\n",
    "    - Manager\n",
    "    - Usuario\n",
    "- **str username**: Atributo de instancia. Nombre del usuario.\n",
    "- **void say_user_info()**: Imprime 'Mi nombre es {self.username} y soy {self.role}.'."
   ]
  },
  {
   "cell_type": "code",
   "execution_count": 3,
   "id": "4945695e-5c9d-4a02-b54a-709d39c51220",
   "metadata": {},
   "outputs": [],
   "source": [
    "class User:\n",
    "  def __init__(self, username, role=\"Customer\"):\n",
    "    self.username = username\n",
    "    self.role = role\n",
    "\n",
    "  def say_user_info(self):\n",
    "    print(f\"My usuario es {self.username} y soy {self.role}\")"
   ]
  },
  {
   "cell_type": "code",
   "execution_count": 4,
   "id": "4aa9da46-d91f-4d64-8248-e7d8d8b4c7ed",
   "metadata": {},
   "outputs": [
    {
     "name": "stdout",
     "output_type": "stream",
     "text": [
      "My usuario es Ramon y soy Customer\n"
     ]
    }
   ],
   "source": [
    "Ramon = User(\"Ramon\")\n",
    "Ramon.say_user_info()"
   ]
  },
  {
   "cell_type": "markdown",
   "id": "73759e50-6478-4f50-84f7-b07aa5426d9a",
   "metadata": {},
   "source": [
    "## Clase Admin\n",
    "- **void say_id()**: Imprime:\n",
    "    - 'Mi id es: {self.id}.\n",
    "    - 'Soy un Administrador \\\\(0-0)/'."
   ]
  },
  {
   "cell_type": "code",
   "execution_count": 10,
   "id": "0688d3d2-0254-4db0-b834-16db2954e9e9",
   "metadata": {},
   "outputs": [],
   "source": [
    "class Admin(Employee, User):\n",
    "  def __init__(self, username):\n",
    "    super().__init__()\n",
    "    User.__init__(self, username, \"Admin\")\n",
    "    \n",
    "\n",
    "  def say_id(self):\n",
    "    super().say_id()\n",
    "    print(\"Soy un Administrador \\\\(0-0)/.\")\n"
   ]
  },
  {
   "cell_type": "code",
   "execution_count": 11,
   "id": "68165047-2ffd-451a-b3e5-aa6207af9430",
   "metadata": {},
   "outputs": [
    {
     "name": "stdout",
     "output_type": "stream",
     "text": [
      "Mi id es 5\n",
      "Soy un Administrador \\(0-0)/.\n",
      "My usuario es Juan y soy Admin\n"
     ]
    }
   ],
   "source": [
    "Juan = Admin(\"Juan\")\n",
    "Juan.say_id()\n",
    "Juan.say_user_info()"
   ]
  },
  {
   "cell_type": "markdown",
   "id": "24305f2b-cbbb-4516-84e0-083455c55ac2",
   "metadata": {},
   "source": [
    "## Clase Manager\n",
    "- **void say_id()**: Imprime:\n",
    "    - 'Mi id es: {self.id}.\n",
    "    - 'Soy un Administrador \\\\(0-0)/'.    \n",
    "    - 'Y estoy al mando'"
   ]
  },
  {
   "cell_type": "code",
   "execution_count": 7,
   "id": "23fb5cb5-0281-471d-a42a-4586ae1dd6a2",
   "metadata": {},
   "outputs": [],
   "source": [
    "class Manager(Admin):\n",
    "  def say_id(self):\n",
    "    super().say_id()\n",
    "    print(\"Y estoy al mando!\")"
   ]
  },
  {
   "cell_type": "code",
   "execution_count": 8,
   "id": "2bf93555-8cc4-4c8c-a012-60e6acceabe1",
   "metadata": {},
   "outputs": [
    {
     "name": "stdout",
     "output_type": "stream",
     "text": [
      "Mi id es 4\n",
      "Soy un Administrador \\(0-0)/.\n",
      "Y estoy al mando!\n",
      "My usuario es Eunice y soy Admin\n"
     ]
    }
   ],
   "source": [
    "Eunice = Manager(\"Eunice\")\n",
    "Eunice.say_id()\n",
    "Eunice.say_user_info()"
   ]
  }
 ],
 "metadata": {
  "kernelspec": {
   "display_name": "Python 3 (ipykernel)",
   "language": "python",
   "name": "python3"
  },
  "language_info": {
   "codemirror_mode": {
    "name": "ipython",
    "version": 3
   },
   "file_extension": ".py",
   "mimetype": "text/x-python",
   "name": "python",
   "nbconvert_exporter": "python",
   "pygments_lexer": "ipython3",
   "version": "3.12.5"
  }
 },
 "nbformat": 4,
 "nbformat_minor": 5
}
