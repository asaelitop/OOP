{
 "cells": [
  {
   "cell_type": "markdown",
   "metadata": {},
   "source": [
    "# Ejercicio 5 de OOP"
   ]
  },
  {
   "cell_type": "markdown",
   "metadata": {},
   "source": [
    "<img src=\"./Diagramas_clases/05_herencia_multiple.png\" alt=\"Ex 1\" width=\"500\"> "
   ]
  },
  {
   "cell_type": "markdown",
   "metadata": {},
   "source": [
    "## Clase animal\n",
    "- **str name**: Atributo de instancia. Nombre del animal.\n",
    "- **void eat()**: Imprime 'yummy yummy! estoy comiendo.'.\n",
    "- **void make_noise**: Imprime '{self.name} hace Grrr.!'.\n",
    "\n",
    "## Clase cat\n",
    "- **Make_noise()**: imprime '{self.name} hace rrrr!'.\n",
    "- **void meow**: imprime 'soy un gato y hago meow!.'. \n",
    "\n",
    "## Clase Dog\n",
    "- **void action()**: Imprime '{self.name} mueve la cola!.' .\n",
    "- **bark()**: Imprime 'Soy un perro y hago gua gua!.'.\n",
    "\n",
    "## Clase wolf\n",
    "- **void action()**: Imprime '{self.name} muerde y duele OUCH!'.\n",
    "\n",
    "## Clase Hybrid\n",
    "- **void action()**: Imprime: \n",
    "    - '{self.name} muerde y duele OUCH!.'.\n",
    "    - '{self.name} mueve la cola.'."
   ]
  },
  {
   "cell_type": "code",
   "execution_count": 24,
   "metadata": {},
   "outputs": [],
   "source": [
    "class Animal:\n",
    "    def __init__(self, name):\n",
    "        self.name = name\n",
    "    \n",
    "    def eat(self):\n",
    "        print('yummy yummy! estoy comiendo.')\n",
    "\n",
    "    def make_noise(self):\n",
    "        print(f'{self.name} hace Grrr!.')\n",
    "\n",
    "class cat(Animal):\n",
    "    def make_noise(self):\n",
    "        print(f'{self.name} hace rrrr!.')\n",
    "\n",
    "    def meow(self):\n",
    "        print('Soy un gato y hago meow!.')\n",
    "\n",
    "class dog(Animal):\n",
    "    def action(self):\n",
    "        print(f'{self.name} mueve la cola!.')\n",
    "\n",
    "    def bark(self):\n",
    "        print('Soy un perro y hago gua gua!.')\n",
    "\n",
    "class wolf(Animal):\n",
    "    def action(self):\n",
    "        print(f'{self.name} muerde y duele OUCH!.')\n",
    "\n",
    "class hybrid(dog, wolf):\n",
    "    def action(self):\n",
    "        super().action()\n",
    "        wolf.action(self)\n",
    "        "
   ]
  },
  {
   "cell_type": "code",
   "execution_count": 25,
   "metadata": {},
   "outputs": [
    {
     "name": "stdout",
     "output_type": "stream",
     "text": [
      "yummy yummy! estoy comiendo.\n",
      "Negro hace Grrr!.\n",
      "***********************************\n",
      "Mandarino hace rrrr!.\n",
      "Soy un gato y hago meow!.\n",
      "yummy yummy! estoy comiendo.\n",
      "***********************************\n",
      "Maxi mueve la cola!.\n",
      "Soy un perro y hago gua gua!.\n",
      "yummy yummy! estoy comiendo.\n",
      "Maxi hace Grrr!.\n",
      "***********************************\n",
      "balto muerde y duele OUCH!.\n",
      "yummy yummy! estoy comiendo.\n",
      "balto hace Grrr!.\n",
      "***********************************\n",
      "Princes mueve la cola!.\n",
      "Princes muerde y duele OUCH!.\n",
      "Soy un perro y hago gua gua!.\n",
      "yummy yummy! estoy comiendo.\n",
      "Princes hace Grrr!.\n"
     ]
    }
   ],
   "source": [
    "Negro = Animal('Negro')\n",
    "Negro.eat()\n",
    "Negro.make_noise()\n",
    "\n",
    "print('*' *35)\n",
    "\n",
    "Mandarino = cat('Mandarino')\n",
    "Mandarino.make_noise()\n",
    "Mandarino.meow()\n",
    "Mandarino.eat()\n",
    "\n",
    "print('*' *35)\n",
    "\n",
    "Maxi = dog('Maxi')\n",
    "Maxi.action()\n",
    "Maxi.bark()\n",
    "Maxi.eat()\n",
    "Maxi.make_noise()\n",
    "\n",
    "print('*' *35)\n",
    "\n",
    "balto = wolf('balto')\n",
    "balto.action()\n",
    "balto.eat()\n",
    "balto.make_noise()\n",
    "\n",
    "print('*' *35)\n",
    "\n",
    "Princes = hybrid('Princes')\n",
    "Princes.action()\n",
    "Princes.bark()\n",
    "Princes.eat()\n",
    "Princes.make_noise()"
   ]
  }
 ],
 "metadata": {
  "kernelspec": {
   "display_name": "Python 3",
   "language": "python",
   "name": "python3"
  },
  "language_info": {
   "codemirror_mode": {
    "name": "ipython",
    "version": 3
   },
   "file_extension": ".py",
   "mimetype": "text/x-python",
   "name": "python",
   "nbconvert_exporter": "python",
   "pygments_lexer": "ipython3",
   "version": "3.12.5"
  }
 },
 "nbformat": 4,
 "nbformat_minor": 2
}
