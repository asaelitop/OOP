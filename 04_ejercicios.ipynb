{
 "cells": [
  {
   "cell_type": "markdown",
   "metadata": {},
   "source": [
    "# Ejercicio 4 de OOP"
   ]
  },
  {
   "cell_type": "markdown",
   "metadata": {},
   "source": [
    "<img src=\"./Diagramas_clases/04_overrinding.png\" alt=\"Ex 1\" width=\"500\"> "
   ]
  },
  {
   "cell_type": "code",
   "execution_count": 17,
   "metadata": {},
   "outputs": [],
   "source": [
    "class animal:\n",
    "    def __init__(self, name):\n",
    "        self.name = name\n",
    "\n",
    "    def make_noise(self):\n",
    "        print(f'Soy {self.name} y hago grr!')\n",
    "\n",
    "    def eat(self):\n",
    "        print(f'Yummy Yummy!, estoy comiendo')\n",
    "\n",
    "class Cat(animal):\n",
    "    def meow(self):\n",
    "        print(f'Soy un gato y hago meow')\n",
    "    \n",
    "    def make_noise(self):\n",
    "        print(f'Soy {self.name} y hago prr!')\n",
    "\n",
    "class Dog(animal):\n",
    "    def brak(self):\n",
    "        print('Soy un perro y hago gua gua!')"
   ]
  },
  {
   "cell_type": "code",
   "execution_count": 20,
   "metadata": {},
   "outputs": [
    {
     "name": "stdout",
     "output_type": "stream",
     "text": [
      "Soy un perro y hago gua gua!\n",
      "Yummy Yummy!, estoy comiendo\n",
      "Soy firu y hago grr!\n",
      "******************************\n",
      "Soy un gato y hago meow\n",
      "Yummy Yummy!, estoy comiendo\n",
      "Soy Mandarino y hago prr!\n"
     ]
    }
   ],
   "source": [
    "firu = Dog(\"firu\")\n",
    "firu.brak()\n",
    "firu.eat()\n",
    "firu.make_noise()\n",
    "print('*' * 30)\n",
    "\n",
    "\n",
    "Mandarino = Cat(\"Mandarino\")\n",
    "Mandarino.meow()\n",
    "Mandarino.eat()\n",
    "Mandarino.make_noise()"
   ]
  }
 ],
 "metadata": {
  "kernelspec": {
   "display_name": "Python 3",
   "language": "python",
   "name": "python3"
  },
  "language_info": {
   "codemirror_mode": {
    "name": "ipython",
    "version": 3
   },
   "file_extension": ".py",
   "mimetype": "text/x-python",
   "name": "python",
   "nbconvert_exporter": "python",
   "pygments_lexer": "ipython3",
   "version": "3.12.5"
  }
 },
 "nbformat": 4,
 "nbformat_minor": 2
}
