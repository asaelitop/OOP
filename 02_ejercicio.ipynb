{
 "cells": [
  {
   "cell_type": "markdown",
   "metadata": {},
   "source": [
    "# Ejercicio 2 de OOP"
   ]
  },
  {
   "cell_type": "markdown",
   "metadata": {},
   "source": [
    "<img src=\"./Diagramas_clases/02_herencia.png\" alt=\"Ex 1\" width=\"500\"> "
   ]
  },
  {
   "cell_type": "code",
   "execution_count": 1,
   "metadata": {},
   "outputs": [],
   "source": [
    "class animal:\n",
    "    def __init__(self, name):\n",
    "        self.name = name\n",
    "\n",
    "    def say_name(self):\n",
    "        print(f'Mi nombre es: {self.name}')\n",
    "\n",
    "    def eat(self):\n",
    "        print(f'Yummy Yummy!, estoy comiendo')\n",
    "\n",
    "class Cat(animal):\n",
    "    def meow(self):\n",
    "        print('Soy un gato y hago meow!')\n",
    "\n",
    "class Dog(animal):\n",
    "    def brak(self):\n",
    "        print('Soy un perro y hago gua gua!')"
   ]
  },
  {
   "cell_type": "code",
   "execution_count": 2,
   "metadata": {},
   "outputs": [
    {
     "name": "stdout",
     "output_type": "stream",
     "text": [
      "Soy un perro y hago gua gua!\n",
      "Yummy Yummy!, estoy comiendo\n",
      "Mi nombre es: Solo vino\n",
      "Soy un gato y hago meow!\n",
      "Yummy Yummy!, estoy comiendo\n",
      "Mi nombre es: Felix\n"
     ]
    }
   ],
   "source": [
    "solo_vino = Dog(\"Solo vino\")\n",
    "solo_vino.brak()\n",
    "solo_vino.eat()\n",
    "solo_vino.say_name()\n",
    "\n",
    "\n",
    "Felix = Cat(\"Felix\")\n",
    "Felix.meow()\n",
    "Felix.eat()\n",
    "Felix.say_name()\n"
   ]
  }
 ],
 "metadata": {
  "kernelspec": {
   "display_name": "Python 3",
   "language": "python",
   "name": "python3"
  },
  "language_info": {
   "codemirror_mode": {
    "name": "ipython",
    "version": 3
   },
   "file_extension": ".py",
   "mimetype": "text/x-python",
   "name": "python",
   "nbconvert_exporter": "python",
   "pygments_lexer": "ipython3",
   "version": "3.12.5"
  }
 },
 "nbformat": 4,
 "nbformat_minor": 2
}
