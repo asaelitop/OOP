{
 "cells": [
  {
   "cell_type": "markdown",
   "metadata": {},
   "source": [
    "## Persona:\n",
    "\n",
    "nombre, apellido paterno y materno \n",
    "-say_full_name\n",
    "\n",
    "(imprime el nombre completo considerando que el usuario lo escriba mal siempre debe de salir como ej.\"Asael Otero Reyes\" )"
   ]
  },
  {
   "cell_type": "code",
   "execution_count": 18,
   "metadata": {},
   "outputs": [],
   "source": [
    "class persona():\n",
    "    def __init__(self, nombre, apellido1, apellido2):\n",
    "        self.nombre = nombre\n",
    "        self.apellido1 = apellido1\n",
    "        self.apellido2 = apellido2\n",
    "\n",
    "\n",
    "    def say_full_name(self):\n",
    "        print(f'{self.nombre.title()} {self.apellido1.title()} {self.apellido2.title()}')\n",
    "\n"
   ]
  },
  {
   "cell_type": "code",
   "execution_count": 20,
   "metadata": {},
   "outputs": [
    {
     "name": "stdout",
     "output_type": "stream",
     "text": [
      "Asael Manuel Otero Reyes\n"
     ]
    }
   ],
   "source": [
    "asael = persona(\"aSaEl MaNuel\", \"oTero\", \"reYes\")\n",
    "asael.say_full_name()"
   ]
  },
  {
   "cell_type": "markdown",
   "metadata": {},
   "source": [
    "## Codigo con \"str\""
   ]
  },
  {
   "cell_type": "code",
   "execution_count": 21,
   "metadata": {},
   "outputs": [],
   "source": [
    "class persona():\n",
    "    def __init__(self, nombre, apellido1, apellido2):\n",
    "        self.nombre = nombre\n",
    "        self.apellido1 = apellido1\n",
    "        self.apellido2 = apellido2\n",
    "\n",
    "\n",
    "    def __str__(self):\n",
    "        return f'{self.nombre.title()} {self.apellido1.title()} {self.apellido2.title()}'"
   ]
  },
  {
   "cell_type": "code",
   "execution_count": 22,
   "metadata": {},
   "outputs": [
    {
     "name": "stdout",
     "output_type": "stream",
     "text": [
      "Asael Manuel Otero Reyes\n"
     ]
    }
   ],
   "source": [
    "asael = persona(\"aSaEl MaNuel\", \"oTero\", \"reYes\")\n",
    "print(asael)"
   ]
  },
  {
   "cell_type": "markdown",
   "metadata": {},
   "source": [
    "## Problema 2\n",
    "\n",
    "clase point2D\n",
    "\n",
    "crea un objeto con dos atributos \"x\" y \"y\"\n",
    "\n",
    "el metodo \"calculate_distance\" recibe dos instancias de la clase y calcula la distancia entre esos dos puntos y regresa el valor de la distancia"
   ]
  },
  {
   "cell_type": "code",
   "execution_count": 36,
   "metadata": {},
   "outputs": [],
   "source": [
    "import math\n",
    "\n",
    "class Point2D:\n",
    "    def __init__(self, x, y):\n",
    "        self.x = x\n",
    "        self.y = y\n",
    "\n",
    "    def calculate_distance(self, punto2):\n",
    "        return math.sqrt((self.x - punto2.x) ** 2 + (self.y - punto2.y) ** 2)"
   ]
  },
  {
   "cell_type": "code",
   "execution_count": 37,
   "metadata": {},
   "outputs": [
    {
     "name": "stdout",
     "output_type": "stream",
     "text": [
      "6.082762530298219\n"
     ]
    }
   ],
   "source": [
    "punto1 = Point2D(3,4)\n",
    "punto2 = Point2D(9,5)\n",
    "print(punto1.calculate_distance(punto2))"
   ]
  },
  {
   "cell_type": "code",
   "execution_count": 38,
   "metadata": {},
   "outputs": [
    {
     "name": "stdout",
     "output_type": "stream",
     "text": [
      "15.0\n"
     ]
    }
   ],
   "source": [
    "punto1 = Point2D(-3,4)\n",
    "punto2 = Point2D(9,-5)\n",
    "print(punto1.calculate_distance(punto2))"
   ]
  },
  {
   "cell_type": "markdown",
   "metadata": {},
   "source": [
    "## problema 3 \n",
    "\n",
    "clase \"Time\" damos 3 atributos que son \"horas, minutos y segundos\" \n",
    "\n",
    "metodo \"total_seconds\" regresa el numero total de segundos que se metieron en horas, minutos y segundos"
   ]
  },
  {
   "cell_type": "code",
   "execution_count": 48,
   "metadata": {},
   "outputs": [],
   "source": [
    "class Time():\n",
    "    def __init__(self, horas, minutos, segundos):\n",
    "        self.horas = horas \n",
    "        self.minutos = minutos\n",
    "        self.segundos = segundos\n",
    "\n",
    "    def total_secons(self):\n",
    "        horas = self.horas * 60 * 60\n",
    "        minutos = self.minutos * 60\n",
    "        segundos = self.segundos\n",
    "        total = horas + minutos + segundos\n",
    "        print(total)\n",
    "        \n",
    "    def __str__(self):\n",
    "        return f'{self.horas:02} : {self.minutos:02} : {self.segundos:02}'"
   ]
  },
  {
   "cell_type": "code",
   "execution_count": 49,
   "metadata": {},
   "outputs": [
    {
     "name": "stdout",
     "output_type": "stream",
     "text": [
      "7803\n",
      "02 : 10 : 03\n"
     ]
    }
   ],
   "source": [
    "tiempo = Time(2,10,3)\n",
    "tiempo.total_secons()\n",
    "print(tiempo)"
   ]
  },
  {
   "cell_type": "code",
   "execution_count": 50,
   "metadata": {},
   "outputs": [
    {
     "name": "stdout",
     "output_type": "stream",
     "text": [
      "32707\n",
      "09 : 05 : 07\n"
     ]
    }
   ],
   "source": [
    "tiempo = Time(9,5,7)\n",
    "tiempo.total_secons()\n",
    "print(tiempo)"
   ]
  }
 ],
 "metadata": {
  "kernelspec": {
   "display_name": "Python 3",
   "language": "python",
   "name": "python3"
  },
  "language_info": {
   "codemirror_mode": {
    "name": "ipython",
    "version": 3
   },
   "file_extension": ".py",
   "mimetype": "text/x-python",
   "name": "python",
   "nbconvert_exporter": "python",
   "pygments_lexer": "ipython3",
   "version": "3.12.5"
  }
 },
 "nbformat": 4,
 "nbformat_minor": 2
}
